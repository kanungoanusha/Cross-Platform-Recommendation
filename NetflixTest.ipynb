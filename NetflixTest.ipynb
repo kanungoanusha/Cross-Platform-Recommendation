{
 "cells": [
  {
   "cell_type": "code",
   "execution_count": 1,
   "metadata": {},
   "outputs": [],
   "source": [
    "import pandas as pd\n",
    "import numpy as np\n",
    "import math\n",
    "import re\n",
    "from scipy.sparse import csr_matrix\n",
    "import matplotlib.pyplot as plt\n",
    "import seaborn as sns\n",
    "from surprise import Reader, Dataset, SVD, evaluate\n",
    "sns.set_style(\"darkgrid\")"
   ]
  },
  {
   "cell_type": "code",
   "execution_count": 2,
   "metadata": {},
   "outputs": [
    {
     "name": "stdout",
     "output_type": "stream",
     "text": [
      "Dataset 1 shape: (131, 2)\n",
      "-Dataset examples-\n",
      "     Cust_Id  Rating\n",
      "0         1:     NaN\n",
      "1    1488844     3.0\n",
      "2     822109     5.0\n",
      "3     885013     4.0\n",
      "4      30878     4.0\n",
      "5     823519     3.0\n",
      "6     893988     3.0\n",
      "7     124105     4.0\n",
      "8    1248029     3.0\n",
      "9    1842128     4.0\n",
      "10   2238063     3.0\n",
      "11   1503895     4.0\n",
      "12   2207774     5.0\n",
      "13   2590061     3.0\n",
      "14      2442     3.0\n",
      "15    543865     4.0\n",
      "16   1209119     4.0\n",
      "17    804919     4.0\n",
      "18   1086807     3.0\n",
      "19   1711859     4.0\n",
      "20    372233     5.0\n",
      "21    712664     5.0\n",
      "22   1331154     4.0\n",
      "23   2632461     5.0\n",
      "24    712664     1.0\n",
      "25   1331154     1.0\n",
      "26   2632461     1.0\n",
      "27        2:     NaN\n",
      "28   2059652     4.0\n",
      "29   1666394     3.0\n",
      "..       ...     ...\n",
      "101  2359084     3.0\n",
      "102   592684     5.0\n",
      "103  2439493     1.0\n",
      "104   156319     2.0\n",
      "105   712664     1.0\n",
      "106  1331154     1.0\n",
      "107  2632461     1.0\n",
      "108       5:     NaN\n",
      "109  1745265     5.0\n",
      "110   885013     5.0\n",
      "111  1997470     5.0\n",
      "112    30878     1.0\n",
      "113   840543     4.0\n",
      "114  2477414     5.0\n",
      "115  1409354     3.0\n",
      "116   589967     4.0\n",
      "117   264160     5.0\n",
      "118  2084362     4.0\n",
      "119  1881496     3.0\n",
      "120   240705     5.0\n",
      "121  1650301     2.0\n",
      "122  1815614     1.0\n",
      "123  1454357     4.0\n",
      "124   624145     3.0\n",
      "125  1310327     4.0\n",
      "126  2012897     5.0\n",
      "127    17063     5.0\n",
      "128   712664     5.0\n",
      "129  1331154     4.0\n",
      "130  2632461     5.0\n",
      "\n",
      "[131 rows x 2 columns]\n"
     ]
    }
   ],
   "source": [
    "# Skip date\n",
    "df1 = pd.read_csv(r'C:\\Users\\HP\\Desktop\\BE data\\data\\testnetflix\\combined_data_1.txt', header = None, names = ['Cust_Id', 'Rating'], usecols = [0,1])\n",
    "\n",
    "df1['Rating'] = df1['Rating'].astype(float)\n",
    "\n",
    "print('Dataset 1 shape: {}'.format(df1.shape))\n",
    "print('-Dataset examples-')\n",
    "print(df1.iloc[::1, :])"
   ]
  },
  {
   "cell_type": "code",
   "execution_count": 3,
   "metadata": {},
   "outputs": [
    {
     "name": "stdout",
     "output_type": "stream",
     "text": [
      "Full dataset shape: (131, 2)\n",
      "-Dataset examples-\n",
      "     Cust_Id  Rating\n",
      "0         1:     NaN\n",
      "1    1488844     3.0\n",
      "2     822109     5.0\n",
      "3     885013     4.0\n",
      "4      30878     4.0\n",
      "5     823519     3.0\n",
      "6     893988     3.0\n",
      "7     124105     4.0\n",
      "8    1248029     3.0\n",
      "9    1842128     4.0\n",
      "10   2238063     3.0\n",
      "11   1503895     4.0\n",
      "12   2207774     5.0\n",
      "13   2590061     3.0\n",
      "14      2442     3.0\n",
      "15    543865     4.0\n",
      "16   1209119     4.0\n",
      "17    804919     4.0\n",
      "18   1086807     3.0\n",
      "19   1711859     4.0\n",
      "20    372233     5.0\n",
      "21    712664     5.0\n",
      "22   1331154     4.0\n",
      "23   2632461     5.0\n",
      "24    712664     1.0\n",
      "25   1331154     1.0\n",
      "26   2632461     1.0\n",
      "27        2:     NaN\n",
      "28   2059652     4.0\n",
      "29   1666394     3.0\n",
      "..       ...     ...\n",
      "101  2359084     3.0\n",
      "102   592684     5.0\n",
      "103  2439493     1.0\n",
      "104   156319     2.0\n",
      "105   712664     1.0\n",
      "106  1331154     1.0\n",
      "107  2632461     1.0\n",
      "108       5:     NaN\n",
      "109  1745265     5.0\n",
      "110   885013     5.0\n",
      "111  1997470     5.0\n",
      "112    30878     1.0\n",
      "113   840543     4.0\n",
      "114  2477414     5.0\n",
      "115  1409354     3.0\n",
      "116   589967     4.0\n",
      "117   264160     5.0\n",
      "118  2084362     4.0\n",
      "119  1881496     3.0\n",
      "120   240705     5.0\n",
      "121  1650301     2.0\n",
      "122  1815614     1.0\n",
      "123  1454357     4.0\n",
      "124   624145     3.0\n",
      "125  1310327     4.0\n",
      "126  2012897     5.0\n",
      "127    17063     5.0\n",
      "128   712664     5.0\n",
      "129  1331154     4.0\n",
      "130  2632461     5.0\n",
      "\n",
      "[131 rows x 2 columns]\n"
     ]
    }
   ],
   "source": [
    "# # load less data for speed\n",
    "\n",
    "df = df1\n",
    "#df = df1.append(df2)\n",
    "#df = df.append(df3)\n",
    "#df = df.append(df4)\n",
    "\n",
    "df.index = np.arange(0,len(df))\n",
    "print('Full dataset shape: {}'.format(df.shape))\n",
    "print('-Dataset examples-')\n",
    "print(df.iloc[::1, :])"
   ]
  },
  {
   "cell_type": "code",
   "execution_count": 4,
   "metadata": {},
   "outputs": [
    {
     "data": {
      "image/png": "[encoded data removed]",
      "text/plain": [
       "<Figure size 1080x720 with 1 Axes>"
      ]
     },
     "metadata": {
      "needs_background": "light"
     },
     "output_type": "display_data"
    }
   ],
   "source": [
    "p = df.groupby('Rating')['Rating'].agg(['count'])\n",
    "\n",
    "# get movie count\n",
    "movie_count = df.isnull().sum()[1]\n",
    "\n",
    "# get customer count\n",
    "cust_count = df['Cust_Id'].nunique() - movie_count\n",
    "\n",
    "# get rating count\n",
    "rating_count = df['Cust_Id'].count() - movie_count\n",
    "\n",
    "ax = p.plot(kind = 'barh', legend = False, figsize = (15,10))\n",
    "plt.title('Total pool: {:,} Movies, {:,} customers, {:,} ratings given'.format(movie_count, cust_count, rating_count), fontsize=20)\n",
    "plt.axis('off')\n",
    "\n",
    "for i in range(1,6):\n",
    "    ax.text(p.iloc[i-1][0]/4, i-1, 'Rating {}: {:.0f}%'.format(i, p.iloc[i-1][0]*100 / p.sum()[0]), color = 'white', weight = 'bold')"
   ]
  },
  {
   "cell_type": "code",
   "execution_count": 5,
   "metadata": {},
   "outputs": [
    {
     "name": "stdout",
     "output_type": "stream",
     "text": [
      "Movie numpy: [1. 1. 1. 1. 1. 1. 1. 1. 1. 1. 1. 1. 1. 1. 1. 1. 1. 1. 1. 1. 1. 1. 1. 1.\n",
      " 1. 1. 2. 2. 2. 2. 2. 2. 2. 2. 2. 2. 2. 2. 2. 2. 2. 2. 2. 2. 2. 2. 2. 2.\n",
      " 2. 2. 2. 2. 2. 3. 3. 3. 3. 3. 3. 3. 3. 3. 3. 3. 3. 3. 3. 3. 3. 3. 3. 3.\n",
      " 3. 3. 3. 3. 3. 4. 4. 4. 4. 4. 4. 4. 4. 4. 4. 4. 4. 4. 4. 4. 4. 4. 4. 4.\n",
      " 4. 4. 4. 4. 4. 4. 4. 4. 5. 5. 5. 5. 5. 5. 5. 5. 5. 5. 5. 5. 5. 5. 5. 5.\n",
      " 5. 5. 5. 5. 5. 5.]\n",
      "Length: 126\n"
     ]
    }
   ],
   "source": [
    "df_nan = pd.DataFrame(pd.isnull(df.Rating))\n",
    "df_nan = df_nan[df_nan['Rating'] == True]\n",
    "df_nan = df_nan.reset_index()\n",
    "\n",
    "movie_np = []\n",
    "movie_id = 1\n",
    "\n",
    "for i,j in zip(df_nan['index'][1:],df_nan['index'][:-1]):\n",
    "    # numpy approach\n",
    "    temp = np.full((1,i-j-1), movie_id)\n",
    "    movie_np = np.append(movie_np, temp)\n",
    "    movie_id += 1\n",
    "\n",
    "# Account for last record and corresponding length\n",
    "# numpy approach\n",
    "last_record = np.full((1,len(df) - df_nan.iloc[-1, 0] - 1),movie_id)\n",
    "movie_np = np.append(movie_np, last_record)\n",
    "\n",
    "print('Movie numpy: {}'.format(movie_np))\n",
    "print('Length: {}'.format(len(movie_np)))"
   ]
  },
  {
   "cell_type": "code",
   "execution_count": 6,
   "metadata": {},
   "outputs": [
    {
     "name": "stdout",
     "output_type": "stream",
     "text": [
      "-Dataset examples-\n",
      "     Cust_Id  Rating  Movie_Id\n",
      "1    1488844     3.0         1\n",
      "2     822109     5.0         1\n",
      "3     885013     4.0         1\n",
      "4      30878     4.0         1\n",
      "5     823519     3.0         1\n",
      "6     893988     3.0         1\n",
      "7     124105     4.0         1\n",
      "8    1248029     3.0         1\n",
      "9    1842128     4.0         1\n",
      "10   2238063     3.0         1\n",
      "11   1503895     4.0         1\n",
      "12   2207774     5.0         1\n",
      "13   2590061     3.0         1\n",
      "14      2442     3.0         1\n",
      "15    543865     4.0         1\n",
      "16   1209119     4.0         1\n",
      "17    804919     4.0         1\n",
      "18   1086807     3.0         1\n",
      "19   1711859     4.0         1\n",
      "20    372233     5.0         1\n",
      "21    712664     5.0         1\n",
      "22   1331154     4.0         1\n",
      "23   2632461     5.0         1\n",
      "24    712664     1.0         1\n",
      "25   1331154     1.0         1\n",
      "26   2632461     1.0         1\n",
      "28   2059652     4.0         2\n",
      "29   1666394     3.0         2\n",
      "30   1759415     4.0         2\n",
      "31   1959936     5.0         2\n",
      "..       ...     ...       ...\n",
      "100  1130594     5.0         4\n",
      "101  2359084     3.0         4\n",
      "102   592684     5.0         4\n",
      "103  2439493     1.0         4\n",
      "104   156319     2.0         4\n",
      "105   712664     1.0         4\n",
      "106  1331154     1.0         4\n",
      "107  2632461     1.0         4\n",
      "109  1745265     5.0         5\n",
      "110   885013     5.0         5\n",
      "111  1997470     5.0         5\n",
      "112    30878     1.0         5\n",
      "113   840543     4.0         5\n",
      "114  2477414     5.0         5\n",
      "115  1409354     3.0         5\n",
      "116   589967     4.0         5\n",
      "117   264160     5.0         5\n",
      "118  2084362     4.0         5\n",
      "119  1881496     3.0         5\n",
      "120   240705     5.0         5\n",
      "121  1650301     2.0         5\n",
      "122  1815614     1.0         5\n",
      "123  1454357     4.0         5\n",
      "124   624145     3.0         5\n",
      "125  1310327     4.0         5\n",
      "126  2012897     5.0         5\n",
      "127    17063     5.0         5\n",
      "128   712664     5.0         5\n",
      "129  1331154     4.0         5\n",
      "130  2632461     5.0         5\n",
      "\n",
      "[126 rows x 3 columns]\n"
     ]
    },
    {
     "name": "stderr",
     "output_type": "stream",
     "text": [
      "C:\\Users\\HP\\Anaconda3\\lib\\site-packages\\ipykernel_launcher.py:4: SettingWithCopyWarning: \n",
      "A value is trying to be set on a copy of a slice from a DataFrame.\n",
      "Try using .loc[row_indexer,col_indexer] = value instead\n",
      "\n",
      "See the caveats in the documentation: http://pandas.pydata.org/pandas-docs/stable/indexing.html#indexing-view-versus-copy\n",
      "  after removing the cwd from sys.path.\n",
      "C:\\Users\\HP\\Anaconda3\\lib\\site-packages\\ipykernel_launcher.py:5: SettingWithCopyWarning: \n",
      "A value is trying to be set on a copy of a slice from a DataFrame.\n",
      "Try using .loc[row_indexer,col_indexer] = value instead\n",
      "\n",
      "See the caveats in the documentation: http://pandas.pydata.org/pandas-docs/stable/indexing.html#indexing-view-versus-copy\n",
      "  \"\"\"\n"
     ]
    }
   ],
   "source": [
    "# remove those Movie ID rows\n",
    "df = df[pd.notnull(df['Rating'])]\n",
    "\n",
    "df['Movie_Id'] = movie_np.astype(int)\n",
    "df['Cust_Id'] = df['Cust_Id'].astype(int)\n",
    "print('-Dataset examples-')\n",
    "print(df.iloc[::1, :])"
   ]
  },
  {
   "cell_type": "code",
   "execution_count": 7,
   "metadata": {},
   "outputs": [
    {
     "name": "stdout",
     "output_type": "stream",
     "text": [
      "Movie minimum times of review: 22.0\n",
      "Customer minimum times of review: 1.0\n"
     ]
    }
   ],
   "source": [
    "f = ['count','mean']\n",
    "\n",
    "df_movie_summary = df.groupby('Movie_Id')['Rating'].agg(f)\n",
    "df_movie_summary.index = df_movie_summary.index.map(int)\n",
    "movie_benchmark = round(df_movie_summary['count'].quantile(0.0),0)\n",
    "drop_movie_list = df_movie_summary[df_movie_summary['count'] < movie_benchmark].index\n",
    "\n",
    "print('Movie minimum times of review: {}'.format(movie_benchmark))\n",
    "\n",
    "df_cust_summary = df.groupby('Cust_Id')['Rating'].agg(f)\n",
    "df_cust_summary.index = df_cust_summary.index.map(int)\n",
    "cust_benchmark = round(df_cust_summary['count'].quantile(0.0),0)\n",
    "drop_cust_list = df_cust_summary[df_cust_summary['count'] < cust_benchmark].index\n",
    "\n",
    "print('Customer minimum times of review: {}'.format(cust_benchmark))"
   ]
  },
  {
   "cell_type": "code",
   "execution_count": 8,
   "metadata": {},
   "outputs": [
    {
     "name": "stdout",
     "output_type": "stream",
     "text": [
      "Original Shape: (126, 3)\n",
      "After Trim Shape: (126, 3)\n",
      "-Data Examples-\n",
      "     Cust_Id  Rating  Movie_Id\n",
      "1    1488844     3.0         1\n",
      "2     822109     5.0         1\n",
      "3     885013     4.0         1\n",
      "4      30878     4.0         1\n",
      "5     823519     3.0         1\n",
      "6     893988     3.0         1\n",
      "7     124105     4.0         1\n",
      "8    1248029     3.0         1\n",
      "9    1842128     4.0         1\n",
      "10   2238063     3.0         1\n",
      "11   1503895     4.0         1\n",
      "12   2207774     5.0         1\n",
      "13   2590061     3.0         1\n",
      "14      2442     3.0         1\n",
      "15    543865     4.0         1\n",
      "16   1209119     4.0         1\n",
      "17    804919     4.0         1\n",
      "18   1086807     3.0         1\n",
      "19   1711859     4.0         1\n",
      "20    372233     5.0         1\n",
      "21    712664     5.0         1\n",
      "22   1331154     4.0         1\n",
      "23   2632461     5.0         1\n",
      "24    712664     1.0         1\n",
      "25   1331154     1.0         1\n",
      "26   2632461     1.0         1\n",
      "28   2059652     4.0         2\n",
      "29   1666394     3.0         2\n",
      "30   1759415     4.0         2\n",
      "31   1959936     5.0         2\n",
      "..       ...     ...       ...\n",
      "100  1130594     5.0         4\n",
      "101  2359084     3.0         4\n",
      "102   592684     5.0         4\n",
      "103  2439493     1.0         4\n",
      "104   156319     2.0         4\n",
      "105   712664     1.0         4\n",
      "106  1331154     1.0         4\n",
      "107  2632461     1.0         4\n",
      "109  1745265     5.0         5\n",
      "110   885013     5.0         5\n",
      "111  1997470     5.0         5\n",
      "112    30878     1.0         5\n",
      "113   840543     4.0         5\n",
      "114  2477414     5.0         5\n",
      "115  1409354     3.0         5\n",
      "116   589967     4.0         5\n",
      "117   264160     5.0         5\n",
      "118  2084362     4.0         5\n",
      "119  1881496     3.0         5\n",
      "120   240705     5.0         5\n",
      "121  1650301     2.0         5\n",
      "122  1815614     1.0         5\n",
      "123  1454357     4.0         5\n",
      "124   624145     3.0         5\n",
      "125  1310327     4.0         5\n",
      "126  2012897     5.0         5\n",
      "127    17063     5.0         5\n",
      "128   712664     5.0         5\n",
      "129  1331154     4.0         5\n",
      "130  2632461     5.0         5\n",
      "\n",
      "[126 rows x 3 columns]\n"
     ]
    }
   ],
   "source": [
    "print('Original Shape: {}'.format(df.shape))\n",
    "df = df[~df['Movie_Id'].isin(drop_movie_list)]\n",
    "df = df[~df['Cust_Id'].isin(drop_cust_list)]\n",
    "print('After Trim Shape: {}'.format(df.shape))\n",
    "print('-Data Examples-')\n",
    "print(df.iloc[::1, :])"
   ]
  },
  {
   "cell_type": "code",
   "execution_count": 9,
   "metadata": {},
   "outputs": [
    {
     "name": "stdout",
     "output_type": "stream",
     "text": [
      "(106, 5)\n"
     ]
    }
   ],
   "source": [
    "df_p = pd.pivot_table(df,values='Rating',index='Cust_Id',columns='Movie_Id')\n",
    "\n",
    "print(df_p.shape)"
   ]
  },
  {
   "cell_type": "code",
   "execution_count": 10,
   "metadata": {},
   "outputs": [
    {
     "name": "stdout",
     "output_type": "stream",
     "text": [
      "          Year                          Name\n",
      "Movie_Id                                    \n",
      "1         2003               Dinosaur Planet\n",
      "2         2004    Isle of Man TT 2004 Review\n",
      "3         1997                     Character\n",
      "4         1994  Paula Abdul's Get Up & Dance\n",
      "5         2004      The Rise and Fall of ECW\n",
      "6         1998                       Tin Cup\n"
     ]
    }
   ],
   "source": [
    "df_title = pd.read_csv(r'C:\\Users\\HP\\Desktop\\BE data\\data\\testnetflix\\movie_titles.csv', encoding = \"ISO-8859-1\", header = None, names = ['Movie_Id', 'Year', 'Name'])\n",
    "df_title.set_index('Movie_Id', inplace = True)\n",
    "print (df_title.head(10))"
   ]
  },
  {
   "cell_type": "code",
   "execution_count": 11,
   "metadata": {},
   "outputs": [
    {
     "name": "stdout",
     "output_type": "stream",
     "text": [
      "Movie_Id    1    2    3    4    5\n",
      "Cust_Id                          \n",
      "2442      3.0  NaN  NaN  NaN  NaN\n",
      "17063     NaN  NaN  NaN  NaN  5.0\n",
      "30878     4.0  NaN  NaN  NaN  1.0\n",
      "44937     NaN  NaN  5.0  NaN  NaN\n",
      "65932     NaN  3.0  NaN  NaN  NaN\n",
      "66414     NaN  NaN  5.0  2.0  NaN\n",
      "67315     NaN  NaN  4.0  NaN  NaN\n",
      "115498    NaN  NaN  3.0  NaN  NaN\n",
      "124105    4.0  NaN  NaN  NaN  NaN\n",
      "156319    NaN  NaN  NaN  2.0  NaN\n",
      "240705    NaN  NaN  NaN  NaN  5.0\n",
      "264160    NaN  NaN  NaN  NaN  5.0\n",
      "303948    NaN  NaN  NaN  2.0  NaN\n",
      "372233    5.0  NaN  NaN  NaN  NaN\n",
      "392722    NaN  4.0  NaN  NaN  NaN\n",
      "410199    NaN  NaN  NaN  5.0  NaN\n",
      "439011    NaN  NaN  1.0  NaN  NaN\n",
      "543865    4.0  NaN  NaN  NaN  NaN\n",
      "573975    NaN  3.0  NaN  NaN  NaN\n",
      "589967    NaN  NaN  NaN  NaN  4.0\n",
      "592684    NaN  NaN  NaN  5.0  NaN\n",
      "616720    NaN  NaN  4.0  NaN  NaN\n",
      "624145    NaN  NaN  NaN  NaN  3.0\n",
      "656399    NaN  NaN  4.0  NaN  NaN\n",
      "668811    NaN  NaN  NaN  1.0  NaN\n",
      "699878    NaN  NaN  4.0  3.0  NaN\n",
      "701730    NaN  NaN  2.0  NaN  NaN\n",
      "704249    NaN  NaN  4.0  NaN  NaN\n",
      "712664    3.0  NaN  5.0  1.0  5.0\n",
      "732556    NaN  NaN  NaN  3.0  NaN\n",
      "...       ...  ...  ...  ...  ...\n",
      "1784150   NaN  4.0  NaN  NaN  NaN\n",
      "1793899   NaN  5.0  NaN  NaN  NaN\n",
      "1815614   NaN  NaN  NaN  NaN  1.0\n",
      "1828884   NaN  5.0  NaN  NaN  NaN\n",
      "1842128   4.0  NaN  NaN  NaN  NaN\n",
      "1878728   NaN  4.0  NaN  NaN  NaN\n",
      "1881496   NaN  NaN  NaN  NaN  3.0\n",
      "1888322   NaN  5.0  NaN  NaN  NaN\n",
      "1893150   NaN  NaN  NaN  5.0  NaN\n",
      "1922778   NaN  3.0  NaN  NaN  NaN\n",
      "1959936   NaN  5.0  NaN  NaN  NaN\n",
      "1997470   NaN  NaN  NaN  NaN  5.0\n",
      "2012897   NaN  NaN  NaN  NaN  5.0\n",
      "2031561   NaN  4.0  4.0  NaN  NaN\n",
      "2059652   NaN  4.0  NaN  NaN  NaN\n",
      "2084362   NaN  NaN  NaN  NaN  4.0\n",
      "2207774   5.0  NaN  NaN  NaN  NaN\n",
      "2238063   3.0  NaN  NaN  NaN  NaN\n",
      "2265116   NaN  3.0  NaN  NaN  NaN\n",
      "2271251   NaN  5.0  NaN  NaN  NaN\n",
      "2359084   NaN  NaN  NaN  3.0  NaN\n",
      "2418760   NaN  NaN  NaN  4.0  NaN\n",
      "2439493   NaN  NaN  NaN  1.0  NaN\n",
      "2467008   NaN  NaN  4.0  NaN  NaN\n",
      "2477414   NaN  NaN  NaN  NaN  5.0\n",
      "2519847   NaN  NaN  5.0  NaN  NaN\n",
      "2557870   NaN  4.0  NaN  NaN  NaN\n",
      "2590061   3.0  NaN  NaN  NaN  NaN\n",
      "2625420   NaN  2.0  NaN  NaN  NaN\n",
      "2632461   3.0  NaN  4.0  1.0  5.0\n",
      "\n",
      "[106 rows x 5 columns]\n"
     ]
    }
   ],
   "source": [
    "print(df_p)"
   ]
  },
  {
   "cell_type": "code",
   "execution_count": 12,
   "metadata": {},
   "outputs": [],
   "source": [
    "def pcorr(movie_title):\n",
    "    print(\"For movie ({})\".format(movie_title))\n",
    "    print(\"-Movie's Pearsons'R correlation - \")\n",
    "    i = int(df_title.index[df_title['Name'] == movie_title][0])\n",
    "    target = df_p[i]\n",
    "    similar_to_target = df_p.corrwith(target)\n",
    "    corr_target = pd.DataFrame(similar_to_target, columns = ['PearsonR'])\n",
    "    corr_target.dropna(inplace = True)\n",
    "    corr_target = corr_target.sort_values('PearsonR', ascending = False)\n",
    "    corr_target.index = corr_target.index.map(int)\n",
    "    corr_target = corr_target.join(df_title).join(df_movie_summary)[['PearsonR', 'Name', 'count', 'mean']]\n",
    "    print(corr_target)"
   ]
  },
  {
   "cell_type": "code",
   "execution_count": 13,
   "metadata": {},
   "outputs": [
    {
     "name": "stdout",
     "output_type": "stream",
     "text": [
      "For movie (Character)\n",
      "-Movie's Pearsons'R correlation - \n",
      "          PearsonR                          Name  count      mean\n",
      "Movie_Id                                                         \n",
      "3         1.000000                     Character     24  3.708333\n",
      "2         0.944911    Isle of Man TT 2004 Review     27  3.703704\n",
      "1         0.500000               Dinosaur Planet     26  3.538462\n",
      "5         0.500000      The Rise and Fall of ECW     22  3.954545\n",
      "4         0.158777  Paula Abdul's Get Up & Dance     27  2.740741\n"
     ]
    }
   ],
   "source": [
    "pcorr(\"Character\")"
   ]
  }
 ],
 "metadata": {
  "kernelspec": {
   "display_name": "Python 3",
   "language": "python",
   "name": "python3"
  },
  "language_info": {
   "codemirror_mode": {
    "name": "ipython",
    "version": 3
   },
   "file_extension": ".py",
   "mimetype": "text/x-python",
   "name": "python",
   "nbconvert_exporter": "python",
   "pygments_lexer": "ipython3",
   "version": "3.7.1"
  }
 },
 "nbformat": 4,
 "nbformat_minor": 2
}
